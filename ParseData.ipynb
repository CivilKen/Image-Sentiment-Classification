{
  "nbformat": 4,
  "nbformat_minor": 0,
  "metadata": {
    "colab": {
      "name": "ParseData.ipynb",
      "version": "0.3.2",
      "provenance": [],
      "collapsed_sections": [],
      "include_colab_link": true
    },
    "kernelspec": {
      "name": "python3",
      "display_name": "Python 3"
    }
  },
  "cells": [
    {
      "cell_type": "markdown",
      "metadata": {
        "id": "view-in-github",
        "colab_type": "text"
      },
      "source": [
        "<a href=\"https://colab.research.google.com/github/CivilKen/Image-Sentiment-Classification/blob/master/ParseData.ipynb\" target=\"_parent\"><img src=\"https://colab.research.google.com/assets/colab-badge.svg\" alt=\"Open In Colab\"/></a>"
      ]
    },
    {
      "cell_type": "code",
      "metadata": {
        "id": "G8DFJplabvkP",
        "colab_type": "code",
        "outputId": "9bfaf499-45ac-4ed3-9065-95e37c33daca",
        "colab": {
          "base_uri": "https://localhost:8080/",
          "height": 104
        }
      },
      "source": [
        "from google.colab import drive\n",
        "drive.mount('/content/gdrive', force_remount=True)\n",
        "!ls \"/content/gdrive/My Drive/ML_homework/Colab Notebooks/hw3\""
      ],
      "execution_count": 0,
      "outputs": [
        {
          "output_type": "stream",
          "text": [
            "Mounted at /content/gdrive\n",
            "df_test_feature   df_valid_label       nor_df_train_feature  test_feature.csv\n",
            "df_train_feature  hw3_v1.ipynb\t       nor_df_valid_feature  train.csv\n",
            "df_train_label\t  hw3_v2.ipynb\t       ParseData.ipynb\t     train_feature.csv\n",
            "df_valid_feature  nor_df_test_feature  test.csv\n"
          ],
          "name": "stdout"
        }
      ]
    },
    {
      "cell_type": "code",
      "metadata": {
        "id": "a1_HJOHffyHV",
        "colab_type": "code",
        "colab": {}
      },
      "source": [
        "import numpy as np\n",
        "import pandas as pd\n",
        "path = \"/content/gdrive/My Drive/ML_homework/Colab Notebooks/hw3/\""
      ],
      "execution_count": 0,
      "outputs": []
    },
    {
      "cell_type": "code",
      "metadata": {
        "id": "5GwLQjPlglDy",
        "colab_type": "code",
        "colab": {}
      },
      "source": [
        "# train, validation and test dataframe\n",
        "df_train = pd.read_csv(path+'train.csv')\n",
        "valid_len = int(0.2*len(df_train))\n",
        "df_valid = df_train.loc[:valid_len,:] \n",
        "df_valid = df_valid.reset_index()\n",
        "df_train = df_train.loc[valid_len:,:]\n",
        "df_train = df_train.reset_index()\n",
        "df_train_label = df_train[df_train.columns[1]]\n",
        "df_valid_label = df_valid[df_valid.columns[1]]"
      ],
      "execution_count": 0,
      "outputs": []
    },
    {
      "cell_type": "code",
      "metadata": {
        "id": "4jzS4mdGgpAF",
        "colab_type": "code",
        "colab": {}
      },
      "source": [
        "df_train_feature = df_train[df_train.columns[-1]]\n",
        "df_train_feature = df_train_feature.apply(str)\n",
        "df_train_feature = df_train_feature.str.split(' ',expand=True)\n",
        "df_train_feature = df_train_feature.astype(dtype='int')\n",
        "\n",
        "df_valid_feature = df_valid[df_valid.columns[-1]]\n",
        "df_valid_feature = df_valid_feature.astype(dtype='str')\n",
        "df_valid_feature = df_valid_feature.str.split(' ',expand=True)\n",
        "df_valid_feature = df_valid_feature.astype(dtype='int')\n",
        "\n",
        "df_test = pd.read_csv(path+'test.csv')\n",
        "df_test_feature = df_test[df_test.columns[-1]]\n",
        "df_test_feature = df_test_feature.astype(dtype='str')\n",
        "df_test_feature = df_test_feature.str.split(' ',expand=True)\n",
        "df_test_feature = df_test_feature.astype(dtype='int')"
      ],
      "execution_count": 0,
      "outputs": []
    },
    {
      "cell_type": "code",
      "metadata": {
        "id": "oEGwFuv9gwg1",
        "colab_type": "code",
        "colab": {}
      },
      "source": [
        "df_train_feature = df_train_feature.apply(lambda x: x/255, axis=1) #axis=1 is to apply function to every row\n",
        "df_valid_feature = df_valid_feature.apply(lambda x: x/255, axis=1)\n",
        "df_test_feature = df_test_feature.apply(lambda x: x/255, axis=1)"
      ],
      "execution_count": 0,
      "outputs": []
    },
    {
      "cell_type": "code",
      "metadata": {
        "id": "lj1_jBjwR5Y9",
        "colab_type": "code",
        "colab": {}
      },
      "source": [
        "nor_df_train_feature = pd.DataFrame()\n",
        "df_train_feature_mean = pd.Series(df_train_feature.mean(axis=1))\n",
        "df_train_feature_std = pd.Series(df_train_feature.std(axis=1))\n",
        "for idx, row in df_train_feature.iterrows():\n",
        "  temp = pd.DataFrame((row-df_train_feature_mean[idx])/df_train_feature_std[idx]).transpose()\n",
        "  nor_df_train_feature = pd.concat([nor_df_train_feature ,temp], axis=0)\n",
        "\n",
        "nor_df_valid_feature = pd.DataFrame()\n",
        "df_valid_feature_mean = pd.Series(df_valid_feature.mean(axis=1))\n",
        "df_valid_feature_std = pd.Series(df_valid_feature.std(axis=1))\n",
        "for idx, row in df_valid_feature.iterrows():\n",
        "  temp = pd.DataFrame((row-df_valid_feature_mean[idx])/df_valid_feature_std[idx]).transpose()\n",
        "  nor_df_valid_feature = pd.concat([nor_df_valid_feature ,temp], axis=0)\n",
        "\n",
        "nor_df_test_feature = pd.DataFrame()\n",
        "df_test_feature_mean = pd.Series(df_test_feature.mean(axis=1))\n",
        "df_test_feature_std = pd.Series(df_test_feature.std(axis=1))\n",
        "for idx, row in df_test_feature.iterrows():\n",
        "  temp = pd.DataFrame((row-df_test_feature_mean[idx])/df_test_feature_std[idx]).transpose()\n",
        "  nor_df_test_feature = pd.concat([nor_df_test_feature ,temp], axis=0)"
      ],
      "execution_count": 0,
      "outputs": []
    },
    {
      "cell_type": "code",
      "metadata": {
        "id": "NAbe5nceMyNF",
        "colab_type": "code",
        "colab": {}
      },
      "source": [
        "#store dataframe\n",
        "df_train_feature.to_pickle(path+\"df_train_feature\")\n",
        "df_valid_feature.to_pickle(path+\"df_valid_feature\")\n",
        "df_test_feature.to_pickle(path+\"df_test_feature\")\n",
        "df_train_label.to_pickle(path+\"df_train_label\")\n",
        "df_valid_label.to_pickle(path+\"df_valid_label\")"
      ],
      "execution_count": 0,
      "outputs": []
    },
    {
      "cell_type": "code",
      "metadata": {
        "id": "KgF1yNV412oa",
        "colab_type": "code",
        "colab": {}
      },
      "source": [
        "nor_df_train_feature.to_pickle(path+\"nor_df_train_feature\")\n",
        "nor_df_valid_feature.to_pickle(path+\"nor_df_valid_feature\")\n",
        "nor_df_test_feature.to_pickle(path+\"nor_df_test_feature\")"
      ],
      "execution_count": 0,
      "outputs": []
    },
    {
      "cell_type": "code",
      "metadata": {
        "id": "_XXgduH3f9ib",
        "colab_type": "code",
        "colab": {}
      },
      "source": [
        "#read dataframe \n",
        "df_train_feature = pd.read_pickle(path+\"df_train_feature\")\n",
        "df_valid_feature = pd.read_pickle(path+\"df_valid_feature\")\n",
        "df_test_feature = pd.read_pickle(path+\"df_test_feature\")\n",
        "df_train_label = pd.read_pickle(path+\"df_train_label\")\n",
        "df_valid_label = pd.read_pickle(path+\"df_valid_label\")"
      ],
      "execution_count": 0,
      "outputs": []
    },
    {
      "cell_type": "code",
      "metadata": {
        "id": "3CTViJb010ER",
        "colab_type": "code",
        "colab": {}
      },
      "source": [
        "nor_df_train_feature = pd.read_pickle(path+\"nor_df_train_feature\")\n",
        "nor_df_valid_feature = pd.read_pickle(path+\"nor_df_valid_feature\")\n",
        "nor_df_test_feature = pd.read_pickle(path+\"nor_df_test_feature\")"
      ],
      "execution_count": 0,
      "outputs": []
    },
    {
      "cell_type": "code",
      "metadata": {
        "id": "neTmDk758jfa",
        "colab_type": "code",
        "colab": {}
      },
      "source": [
        ""
      ],
      "execution_count": 0,
      "outputs": []
    }
  ]
}